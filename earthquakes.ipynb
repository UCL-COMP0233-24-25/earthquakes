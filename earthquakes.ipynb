{
 "cells": [
  {
   "cell_type": "code",
   "execution_count": 36,
   "metadata": {},
   "outputs": [],
   "source": [
    "# The Python standard library includes some functionality for communicating\n",
    "# over the Internet.\n",
    "# However, we will use a more powerful and simpler library called requests.\n",
    "# This is external library that you may need to install first.\n",
    "import requests\n",
    "import json\n",
    "\n",
    "def get_data():\n",
    "    # With requests, we can ask the web service for the data.\n",
    "    # Can you understand the parameters we are passing here?\n",
    "    response = requests.get(\n",
    "        \"http://earthquake.usgs.gov/fdsnws/event/1/query.geojson\",\n",
    "        params={\n",
    "            'starttime': \"2000-01-01\",\n",
    "            \"maxlatitude\": \"58.723\",\n",
    "            \"minlatitude\": \"50.008\",\n",
    "            \"maxlongitude\": \"1.67\",\n",
    "            \"minlongitude\": \"-9.756\",\n",
    "            \"minmagnitude\": \"1\",\n",
    "            \"endtime\": \"2018-10-11\",\n",
    "            \"orderby\": \"time-asc\"}\n",
    "    )\n",
    "\n",
    "    # The response we get back is an object with several fields.\n",
    "    # The actual contents we care about are in its text field:\n",
    "    text = response.text\n",
    "    # To understand the structure of this text, you may want to save it\n",
    "    # to a file and open it in VS Code or a browser.\n",
    "    # See the README file for more information.\n",
    "    # We need to interpret the text to get values that we can work with.\n",
    "    # What format is the text in? How can we load the values?\n",
    "    return json.loads(text)\n",
    "\n",
    "def count_earthquakes(data):\n",
    "    \"\"\"Get the total number of earthquakes in the response.\"\"\"\n",
    "    return ...\n",
    "\n",
    "\n",
    "def get_magnitude(earthquake):\n",
    "    \"\"\"Retrive the magnitude of an earthquake item.\"\"\"\n",
    "    return ...\n",
    "\n",
    "\n",
    "def get_location(earthquake):\n",
    "    \"\"\"Retrieve the latitude and longitude of an earthquake item.\"\"\"\n",
    "    # There are three coordinates, but we don't care about the third (altitude)\n",
    "    return ...\n",
    "\n",
    "\n",
    "def get_maximum(data):\n",
    "    \"\"\"Get the magnitude and location of the strongest earthquake in the data.\"\"\"\n",
    "    ...\n",
    "\n",
    "\n",
    "# With all the above functions defined, we can now call them and get the result\n",
    "data = get_data()\n",
    "#print(f\"Loaded {count_earthquakes(data)}\")\n",
    "#max_magnitude, max_location = get_maximum(data)\n",
    "#print(f\"The strongest earthquake was at {max_location} with magnitude {max_magnitude}\")"
   ]
  },
  {
   "cell_type": "code",
   "execution_count": 41,
   "metadata": {},
   "outputs": [],
   "source": []
  },
  {
   "cell_type": "code",
   "execution_count": null,
   "metadata": {},
   "outputs": [],
   "source": []
  }
 ],
 "metadata": {
  "kernelspec": {
   "display_name": "csc371",
   "language": "python",
   "name": "python3"
  },
  "language_info": {
   "codemirror_mode": {
    "name": "ipython",
    "version": 3
   },
   "file_extension": ".py",
   "mimetype": "text/x-python",
   "name": "python",
   "nbconvert_exporter": "python",
   "pygments_lexer": "ipython3",
   "version": "3.10.12"
  }
 },
 "nbformat": 4,
 "nbformat_minor": 2
}
