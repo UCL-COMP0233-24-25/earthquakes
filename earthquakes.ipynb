{
 "cells": [
  {
   "cell_type": "code",
   "execution_count": 2,
   "metadata": {},
   "outputs": [
    {
     "data": {
      "text/plain": [
       "<Figure size 640x480 with 0 Axes>"
      ]
     },
     "metadata": {},
     "output_type": "display_data"
    }
   ],
   "source": [
    "\n",
    "import requests\n",
    "import json\n",
    "from datetime import date\n",
    "import matplotlib.pyplot as plt\n",
    "\n",
    "\n",
    "def get_data():\n",
    "    # With requests, we can ask the web service for the data.\n",
    "    # Can you understand the parameters we are passing here?\n",
    "    response = requests.get(\n",
    "        \"http://earthquake.usgs.gov/fdsnws/event/1/query.geojson\",\n",
    "        params={\n",
    "            'starttime': \"2000-01-01\",\n",
    "            \"maxlatitude\": \"58.723\",\n",
    "            \"minlatitude\": \"50.008\",\n",
    "            \"maxlongitude\": \"1.67\",\n",
    "            \"minlongitude\": \"-9.756\",\n",
    "            \"minmagnitude\": \"1\",\n",
    "            \"endtime\": \"2018-10-11\",\n",
    "            \"orderby\": \"time-asc\"}\n",
    "    )\n",
    "\n",
    "    text = response.text\n",
    "    return json.loads(text)\n",
    "\n",
    "def get_year(earthquake):\n",
    "    \"\"\"Extract the year in which an earthquake happened.\"\"\"\n",
    "    timestamp = earthquake['properties']['time']\n",
    "    # The time is given in a strange-looking but commonly-used format.\n",
    "    # To understand it, we can look at the documentation of the source data:\n",
    "    # https://earthquake.usgs.gov/data/comcat/index.php#time\n",
    "    # Fortunately, Python provides a way of interpreting this timestamp:\n",
    "    # (Question for discussion: Why do we divide by 1000?)\n",
    "    year = date.fromtimestamp(timestamp/1000).year\n",
    "    return year\n",
    "\n",
    "\n",
    "def get_magnitude(earthquake):\n",
    "    \"\"\"Retrive the magnitude of an earthquake item.\"\"\"\n",
    "    ...\n",
    "\n",
    "\n",
    "# This is function you may want to create to break down the computations,\n",
    "# although it is not necessary. You may also change it to something different.\n",
    "def get_magnitudes_per_year(earthquakes):\n",
    "    \"\"\"Retrieve the magnitudes of all the earthquakes in a given year.\n",
    "    \n",
    "    Returns a dictionary with years as keys, and lists of magnitudes as values.\n",
    "    \"\"\"\n",
    "    ...\n",
    "\n",
    "\n",
    "def plot_average_magnitude_per_year(earthquakes):\n",
    "    ...\n",
    "\n",
    "\n",
    "def plot_number_per_year(earthquakes):\n",
    "    ...\n",
    "\n",
    "\n",
    "\n",
    "# Get the data we will work with\n",
    "quakes = get_data()['features']\n",
    "\n",
    "# Plot the results - this is not perfect since the x axis is shown as real\n",
    "# numbers rather than integers, which is what we would prefer!\n",
    "plot_number_per_year(quakes)\n",
    "plt.clf()  # This clears the figure, so that we don't overlay the two plots\n",
    "plot_average_magnitude_per_year(quakes)"
   ]
  },
  {
   "cell_type": "code",
   "execution_count": 11,
   "metadata": {},
   "outputs": [
    {
     "data": {
      "text/html": [
       "<div>\n",
       "<style scoped>\n",
       "    .dataframe tbody tr th:only-of-type {\n",
       "        vertical-align: middle;\n",
       "    }\n",
       "\n",
       "    .dataframe tbody tr th {\n",
       "        vertical-align: top;\n",
       "    }\n",
       "\n",
       "    .dataframe thead th {\n",
       "        text-align: right;\n",
       "    }\n",
       "</style>\n",
       "<table border=\"1\" class=\"dataframe\">\n",
       "  <thead>\n",
       "    <tr style=\"text-align: right;\">\n",
       "      <th></th>\n",
       "      <th>type</th>\n",
       "      <th>properties</th>\n",
       "      <th>geometry</th>\n",
       "      <th>id</th>\n",
       "    </tr>\n",
       "  </thead>\n",
       "  <tbody>\n",
       "    <tr>\n",
       "      <th>0</th>\n",
       "      <td>Feature</td>\n",
       "      <td>{'mag': 2.6, 'place': '12 km NNW of Penrith, U...</td>\n",
       "      <td>{'type': 'Point', 'coordinates': [-2.81, 54.77...</td>\n",
       "      <td>usp0009rst</td>\n",
       "    </tr>\n",
       "    <tr>\n",
       "      <th>1</th>\n",
       "      <td>Feature</td>\n",
       "      <td>{'mag': 4, 'place': '1 km WSW of Warwick, Unit...</td>\n",
       "      <td>{'type': 'Point', 'coordinates': [-1.61, 52.28...</td>\n",
       "      <td>usp000a0pm</td>\n",
       "    </tr>\n",
       "    <tr>\n",
       "      <th>2</th>\n",
       "      <td>Feature</td>\n",
       "      <td>{'mag': 4, 'place': '38 km NNE of Cromer, Unit...</td>\n",
       "      <td>{'type': 'Point', 'coordinates': [1.564, 53.23...</td>\n",
       "      <td>usp000a6hd</td>\n",
       "    </tr>\n",
       "    <tr>\n",
       "      <th>3</th>\n",
       "      <td>Feature</td>\n",
       "      <td>{'mag': 3.3, 'place': '171 km ENE of Peterhead...</td>\n",
       "      <td>{'type': 'Point', 'coordinates': [0.872, 58.09...</td>\n",
       "      <td>usp000abdr</td>\n",
       "    </tr>\n",
       "    <tr>\n",
       "      <th>4</th>\n",
       "      <td>Feature</td>\n",
       "      <td>{'mag': 2.9, 'place': '8 km W of Marlborough, ...</td>\n",
       "      <td>{'type': 'Point', 'coordinates': [-1.845, 51.4...</td>\n",
       "      <td>usp000abnc</td>\n",
       "    </tr>\n",
       "    <tr>\n",
       "      <th>...</th>\n",
       "      <td>...</td>\n",
       "      <td>...</td>\n",
       "      <td>...</td>\n",
       "      <td>...</td>\n",
       "    </tr>\n",
       "    <tr>\n",
       "      <th>115</th>\n",
       "      <td>Feature</td>\n",
       "      <td>{'mag': 4.1, 'place': '7 km NNE of Withernsea,...</td>\n",
       "      <td>{'type': 'Point', 'coordinates': [0.0603, 53.7...</td>\n",
       "      <td>us1000emw5</td>\n",
       "    </tr>\n",
       "    <tr>\n",
       "      <th>116</th>\n",
       "      <td>Feature</td>\n",
       "      <td>{'mag': 2.6, 'place': '5 km W of Capel, United...</td>\n",
       "      <td>{'type': 'Point', 'coordinates': [-0.258, 51.1...</td>\n",
       "      <td>us2000fpl7</td>\n",
       "    </tr>\n",
       "    <tr>\n",
       "      <th>117</th>\n",
       "      <td>Feature</td>\n",
       "      <td>{'mag': 2.4, 'place': '4 km E of Capel, United...</td>\n",
       "      <td>{'type': 'Point', 'coordinates': [-0.265, 51.1...</td>\n",
       "      <td>us2000ft87</td>\n",
       "    </tr>\n",
       "    <tr>\n",
       "      <th>118</th>\n",
       "      <td>Feature</td>\n",
       "      <td>{'mag': 2.8, 'place': '1 km S of Ewhurst, Unit...</td>\n",
       "      <td>{'type': 'Point', 'coordinates': [-0.4435, 51....</td>\n",
       "      <td>us2000fxc7</td>\n",
       "    </tr>\n",
       "    <tr>\n",
       "      <th>119</th>\n",
       "      <td>Feature</td>\n",
       "      <td>{'mag': 2.5, 'place': '1 km ENE of Gourock, Un...</td>\n",
       "      <td>{'type': 'Point', 'coordinates': [-4.7957, 55....</td>\n",
       "      <td>us2000h6y0</td>\n",
       "    </tr>\n",
       "  </tbody>\n",
       "</table>\n",
       "<p>120 rows × 4 columns</p>\n",
       "</div>"
      ],
      "text/plain": [
       "        type                                         properties  \\\n",
       "0    Feature  {'mag': 2.6, 'place': '12 km NNW of Penrith, U...   \n",
       "1    Feature  {'mag': 4, 'place': '1 km WSW of Warwick, Unit...   \n",
       "2    Feature  {'mag': 4, 'place': '38 km NNE of Cromer, Unit...   \n",
       "3    Feature  {'mag': 3.3, 'place': '171 km ENE of Peterhead...   \n",
       "4    Feature  {'mag': 2.9, 'place': '8 km W of Marlborough, ...   \n",
       "..       ...                                                ...   \n",
       "115  Feature  {'mag': 4.1, 'place': '7 km NNE of Withernsea,...   \n",
       "116  Feature  {'mag': 2.6, 'place': '5 km W of Capel, United...   \n",
       "117  Feature  {'mag': 2.4, 'place': '4 km E of Capel, United...   \n",
       "118  Feature  {'mag': 2.8, 'place': '1 km S of Ewhurst, Unit...   \n",
       "119  Feature  {'mag': 2.5, 'place': '1 km ENE of Gourock, Un...   \n",
       "\n",
       "                                              geometry          id  \n",
       "0    {'type': 'Point', 'coordinates': [-2.81, 54.77...  usp0009rst  \n",
       "1    {'type': 'Point', 'coordinates': [-1.61, 52.28...  usp000a0pm  \n",
       "2    {'type': 'Point', 'coordinates': [1.564, 53.23...  usp000a6hd  \n",
       "3    {'type': 'Point', 'coordinates': [0.872, 58.09...  usp000abdr  \n",
       "4    {'type': 'Point', 'coordinates': [-1.845, 51.4...  usp000abnc  \n",
       "..                                                 ...         ...  \n",
       "115  {'type': 'Point', 'coordinates': [0.0603, 53.7...  us1000emw5  \n",
       "116  {'type': 'Point', 'coordinates': [-0.258, 51.1...  us2000fpl7  \n",
       "117  {'type': 'Point', 'coordinates': [-0.265, 51.1...  us2000ft87  \n",
       "118  {'type': 'Point', 'coordinates': [-0.4435, 51....  us2000fxc7  \n",
       "119  {'type': 'Point', 'coordinates': [-4.7957, 55....  us2000h6y0  \n",
       "\n",
       "[120 rows x 4 columns]"
      ]
     },
     "execution_count": 11,
     "metadata": {},
     "output_type": "execute_result"
    }
   ],
   "source": [
    "import pandas as pd\n",
    "\n",
    "df = pd.DataFrame(quakes) \n",
    "df"
   ]
  },
  {
   "cell_type": "code",
   "execution_count": 38,
   "metadata": {},
   "outputs": [],
   "source": [
    "magnitudes = []\n",
    "for i in range(len(df)):\n",
    "    magnitudes.append(df['properties'][i]['mag'])"
   ]
  },
  {
   "cell_type": "code",
   "execution_count": 40,
   "metadata": {},
   "outputs": [],
   "source": [
    "import numpy as np\n",
    "magnitudes = np.array(magnitudes)\n"
   ]
  },
  {
   "cell_type": "code",
   "execution_count": 24,
   "metadata": {},
   "outputs": [],
   "source": [
    "year = []\n",
    "for i in range(len(df)):\n",
    "    year.append(df['properties'][i]['time'])"
   ]
  },
  {
   "cell_type": "code",
   "execution_count": 41,
   "metadata": {},
   "outputs": [],
   "source": [
    "year_array = np.array(year)\n",
    "year_array = np.array([date.fromtimestamp(ts / 1000).year for ts in year_array])"
   ]
  },
  {
   "cell_type": "code",
   "execution_count": 43,
   "metadata": {},
   "outputs": [],
   "source": [
    "new_df = pd.DataFrame({'year': year_array, 'mag': magnitudes})"
   ]
  },
  {
   "cell_type": "code",
   "execution_count": 82,
   "metadata": {},
   "outputs": [],
   "source": [
    "mean = new_df.groupby(['year']).mean()\n",
    "mean.loc[2012] = 0\n",
    "mean.loc[2016] = 0"
   ]
  },
  {
   "cell_type": "code",
   "execution_count": 83,
   "metadata": {},
   "outputs": [
    {
     "data": {
      "image/png": "[encoded data removed]",
      "text/plain": [
       "<Figure size 2000x500 with 1 Axes>"
      ]
     },
     "metadata": {},
     "output_type": "display_data"
    }
   ],
   "source": [
    "import matplotlib.pyplot as plt\n",
    "plt.figure(figsize=(20,5))\n",
    "plt.bar(list(mean.index), mean['mag'])\n",
    "plt.xlabel('Year')\n",
    "plt.ylabel('Magnitude')\n",
    "plt.xticks(ticks=list(mean.index), labels=[int(year) for year in mean.index])\n",
    "plt.show()"
   ]
  },
  {
   "cell_type": "code",
   "execution_count": 84,
   "metadata": {},
   "outputs": [],
   "source": [
    "count = new_df.groupby(['year']).count()\n",
    "count.loc[2012] = 0\n",
    "count.loc[2016] = 0"
   ]
  },
  {
   "cell_type": "code",
   "execution_count": 85,
   "metadata": {},
   "outputs": [
    {
     "data": {
      "image/png": "[encoded data removed]",
      "text/plain": [
       "<Figure size 2000x500 with 1 Axes>"
      ]
     },
     "metadata": {},
     "output_type": "display_data"
    }
   ],
   "source": [
    "plt.figure(figsize=(20,5))\n",
    "plt.bar(list(count.index), count['mag'])\n",
    "plt.xlabel('Year')\n",
    "plt.ylabel('Magnitude')\n",
    "plt.xticks(ticks=list(mean.index), labels=[int(year) for year in mean.index])\n",
    "plt.show()"
   ]
  },
  {
   "cell_type": "code",
   "execution_count": null,
   "metadata": {},
   "outputs": [],
   "source": []
  }
 ],
 "metadata": {
  "kernelspec": {
   "display_name": "csc371",
   "language": "python",
   "name": "python3"
  },
  "language_info": {
   "codemirror_mode": {
    "name": "ipython",
    "version": 3
   },
   "file_extension": ".py",
   "mimetype": "text/x-python",
   "name": "python",
   "nbconvert_exporter": "python",
   "pygments_lexer": "ipython3",
   "version": "3.10.12"
  }
 },
 "nbformat": 4,
 "nbformat_minor": 2
}
