{
 "cells": [
  {
   "cell_type": "code",
   "execution_count": 1,
   "metadata": {},
   "outputs": [],
   "source": [
    "import requests\n",
    "import json"
   ]
  },
  {
   "cell_type": "code",
   "execution_count": 3,
   "metadata": {},
   "outputs": [],
   "source": [
    "def get_data():\n",
    "    # With requests, we can ask the web service for the data.\n",
    "    # Can you understand the parameters we are passing here?\n",
    "    response = requests.get(\n",
    "        \"http://earthquake.usgs.gov/fdsnws/event/1/query.geojson\",\n",
    "        params={\n",
    "            'starttime': \"2000-01-01\",\n",
    "            \"maxlatitude\": \"58.723\",\n",
    "            \"minlatitude\": \"50.008\",\n",
    "            \"maxlongitude\": \"1.67\",\n",
    "            \"minlongitude\": \"-9.756\",\n",
    "            \"minmagnitude\": \"1\",\n",
    "            \"endtime\": \"2018-10-11\",\n",
    "            \"orderby\": \"time-asc\"}\n",
    "    )\n",
    "\n",
    "    # The response we get back is an object with several fields.\n",
    "    # The actual contents we care about are in its text field:\n",
    "    #text = response.text\n",
    "    Data = response.json()"
   ]
  },
  {
   "cell_type": "code",
   "execution_count": 4,
   "metadata": {},
   "outputs": [],
   "source": [
    "earthquakes = get_data()"
   ]
  },
  {
   "cell_type": "code",
   "execution_count": 5,
   "metadata": {},
   "outputs": [
    {
     "ename": "AttributeError",
     "evalue": "'NoneType' object has no attribute 'shape'",
     "output_type": "error",
     "traceback": [
      "\u001b[1;31m---------------------------------------------------------------------------\u001b[0m",
      "\u001b[1;31mAttributeError\u001b[0m                            Traceback (most recent call last)",
      "Cell \u001b[1;32mIn[5], line 1\u001b[0m\n\u001b[1;32m----> 1\u001b[0m \u001b[38;5;28mprint\u001b[39m(\u001b[43mearthquakes\u001b[49m\u001b[38;5;241;43m.\u001b[39;49m\u001b[43mshape\u001b[49m())\n",
      "\u001b[1;31mAttributeError\u001b[0m: 'NoneType' object has no attribute 'shape'"
     ]
    }
   ],
   "source": [
    "print(earthquakes.shape())"
   ]
  },
  {
   "cell_type": "code",
   "execution_count": null,
   "metadata": {},
   "outputs": [],
   "source": []
  }
 ],
 "metadata": {
  "kernelspec": {
   "display_name": "base2",
   "language": "python",
   "name": "python3"
  },
  "language_info": {
   "codemirror_mode": {
    "name": "ipython",
    "version": 3
   },
   "file_extension": ".py",
   "mimetype": "text/x-python",
   "name": "python",
   "nbconvert_exporter": "python",
   "pygments_lexer": "ipython3",
   "version": "3.10.13"
  }
 },
 "nbformat": 4,
 "nbformat_minor": 2
}
